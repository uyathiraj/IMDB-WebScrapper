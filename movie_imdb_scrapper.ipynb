{
  "nbformat": 4,
  "nbformat_minor": 0,
  "metadata": {
    "colab": {
      "name": "movie_imdb_scrapper.ipynb",
      "version": "0.3.2",
      "provenance": [],
      "collapsed_sections": []
    },
    "kernelspec": {
      "name": "python3",
      "display_name": "Python 3"
    }
  },
  "cells": [
    {
      "cell_type": "markdown",
      "metadata": {
        "id": "view-in-github",
        "colab_type": "text"
      },
      "source": [
        "[View in Colaboratory](https://colab.research.google.com/github/uyathiraj/PythonPractice/blob/master/movie_imdb_scrapper.ipynb)"
      ]
    },
    {
      "metadata": {
        "id": "m2GDXShxfWSl",
        "colab_type": "code",
        "colab": {}
      },
      "cell_type": "code",
      "source": [
        "from bs4 import BeautifulSoup\n",
        "import requests\n",
        "import pandas as pd"
      ],
      "execution_count": 0,
      "outputs": []
    },
    {
      "metadata": {
        "id": "lDslqyFkghs5",
        "colab_type": "code",
        "colab": {}
      },
      "cell_type": "code",
      "source": [
        "def get_list(page):\n",
        "  #page = requests.get(url)\n",
        "  soup = BeautifulSoup(page.text, 'html.parser')\n",
        "  movie_list = soup.findAll(class_='lister-item mode-advanced')\n",
        "  #print(movie_list)\n",
        "  #print(len(movie_list))\n",
        "  return movie_list"
      ],
      "execution_count": 0,
      "outputs": []
    },
    {
      "metadata": {
        "id": "FauVrgzSsX-z",
        "colab_type": "code",
        "colab": {}
      },
      "cell_type": "code",
      "source": [
        "def get_fomatted_list(movie_list):\n",
        "  row_list = []\n",
        "  for movie in movie_list:\n",
        "    row_item={}\n",
        "    item_content = movie.find(class_ ='lister-item-content')\n",
        "    row_item['name'] = item_content.find(\"h3\").find('a').contents[0]\n",
        "    rating_block = item_content.find(\"strong\")\n",
        "    if rating_block != None:\n",
        "      rating = rating_block.contents[0]\n",
        "    else:\n",
        "      rating = None\n",
        "    row_item['rating'] = rating\n",
        "    year_block = item_content.find(\"h3\").find(class_=\"lister-item-year text-muted unbold\")\n",
        "    if year_block != None:\n",
        "      year_contents = year_block.contents\n",
        "      if len(year_contents) > 0:\n",
        "        year = year_contents[0]\n",
        "    else:\n",
        "      year = None\n",
        "    row_item['year'] = year\n",
        "    \n",
        "    row_item['genre'] = item_content.find(class_ = 'genre').contents[0]   \n",
        "    row_item['description'] = item_content.findAll(\"p\")[1].contents[0]\n",
        "    row_item['image'] = movie.find('img')['src']\n",
        "    row_list.append(row_item)\n",
        "    #print(row_item)\n",
        "  return pd.DataFrame(row_list)"
      ],
      "execution_count": 0,
      "outputs": []
    },
    {
      "metadata": {
        "id": "flrBVxIqoj8P",
        "colab_type": "code",
        "colab": {}
      },
      "cell_type": "code",
      "source": [
        "url = \"http://www.imdb.com/search/title?groups=top_500&page=2\"\n",
        "page = requests.get(url)"
      ],
      "execution_count": 0,
      "outputs": []
    },
    {
      "metadata": {
        "id": "4zRhvsTLouLQ",
        "colab_type": "code",
        "colab": {}
      },
      "cell_type": "code",
      "source": [
        "soup = BeautifulSoup(page.text, 'html.parser')"
      ],
      "execution_count": 0,
      "outputs": []
    },
    {
      "metadata": {
        "id": "xeRnbLsyqvld",
        "colab_type": "code",
        "colab": {}
      },
      "cell_type": "code",
      "source": [
        "movie_list = get_list(page)"
      ],
      "execution_count": 0,
      "outputs": []
    },
    {
      "metadata": {
        "id": "RVRwuZTfqzua",
        "colab_type": "code",
        "colab": {}
      },
      "cell_type": "code",
      "source": [
        "get_fomatted_list(movie_list)"
      ],
      "execution_count": 0,
      "outputs": []
    },
    {
      "metadata": {
        "id": "VdrWbB4iwfcz",
        "colab_type": "code",
        "colab": {}
      },
      "cell_type": "code",
      "source": [
        "base_url = \"http://www.imdb.com/search/title?groups=top_500&page=\"\n",
        "  "
      ],
      "execution_count": 0,
      "outputs": []
    },
    {
      "metadata": {
        "id": "rOuFEOeGo2Fe",
        "colab_type": "code",
        "colab": {
          "base_uri": "https://localhost:8080/",
          "height": 34
        },
        "outputId": "c8485777-1654-4741-ffa0-2b7f2d7c7b68"
      },
      "cell_type": "code",
      "source": [
        "movie_list=[]\n",
        "for i in range(100):\n",
        "  url = base_url+str(i)\n",
        "  page = requests.get(url)\n",
        "  soup = BeautifulSoup(page.text, 'html.parser')\n",
        "  movie_list += get_list(page)\n",
        "print(len(movie_list))"
      ],
      "execution_count": 6,
      "outputs": [
        {
          "output_type": "stream",
          "text": [
            "5000\n"
          ],
          "name": "stdout"
        }
      ]
    },
    {
      "metadata": {
        "id": "LHWqDV4SoxJC",
        "colab_type": "code",
        "colab": {}
      },
      "cell_type": "code",
      "source": [
        "movie_df = get_fomatted_list(movie_list)\n"
      ],
      "execution_count": 0,
      "outputs": []
    },
    {
      "metadata": {
        "id": "ziTFmhG9on4O",
        "colab_type": "code",
        "colab": {}
      },
      "cell_type": "code",
      "source": [
        "movie_df"
      ],
      "execution_count": 0,
      "outputs": []
    },
    {
      "metadata": {
        "id": "IOnsZYrlYOhL",
        "colab_type": "code",
        "colab": {}
      },
      "cell_type": "code",
      "source": [
        "columns = ['name','year','genre','rating','description','image']\n",
        "movie_df = movie_df[columns]\n",
        "print(movie_df)"
      ],
      "execution_count": 0,
      "outputs": []
    },
    {
      "metadata": {
        "id": "kEg6lyQEgfq9",
        "colab_type": "code",
        "colab": {}
      },
      "cell_type": "code",
      "source": [
        "file_name = 'imdb_movie_list_5000.xlsx'\n",
        "writer = pd.ExcelWriter(file_name)\n",
        "movie_df.to_excel(writer,'Sheet1')\n",
        "writer.save()"
      ],
      "execution_count": 0,
      "outputs": []
    },
    {
      "metadata": {
        "id": "1FyLZ-ZrVBAX",
        "colab_type": "code",
        "colab": {}
      },
      "cell_type": "code",
      "source": [
        "from google.colab import files\n",
        "files.download(file_name)"
      ],
      "execution_count": 0,
      "outputs": []
    }
  ]
}